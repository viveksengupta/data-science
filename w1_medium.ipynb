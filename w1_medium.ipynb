{
  "nbformat": 4,
  "nbformat_minor": 0,
  "metadata": {
    "colab": {
      "name": "w1_medium.ipynb",
      "version": "0.3.2",
      "provenance": [],
      "collapsed_sections": [],
      "include_colab_link": true
    },
    "kernelspec": {
      "name": "python2",
      "display_name": "Python 2"
    }
  },
  "cells": [
    {
      "cell_type": "markdown",
      "metadata": {
        "id": "view-in-github",
        "colab_type": "text"
      },
      "source": [
        "<a href=\"https://colab.research.google.com/github/viveksengupta/data-science/blob/master/w1_medium.ipynb\" target=\"_parent\"><img src=\"https://colab.research.google.com/assets/colab-badge.svg\" alt=\"Open In Colab\"/></a>"
      ]
    },
    {
      "metadata": {
        "id": "EQSpivuRDz8N",
        "colab_type": "text"
      },
      "cell_type": "markdown",
      "source": [
        "# Predicting whether a light is on or off\n",
        "\n",
        "I have collected the data for one of my lights over a period of about 2 months. In this exercise we will train a tensorflow model to predict the state of the light from the following featuers:\n",
        "* hour of the day\n",
        "* day of the week\n",
        "* minutes since the last state change in the home (log scaled)\n",
        "* miuntes since the last utterance in the home (log scaled)\n",
        "* the elevation of the sun (scaled between -1 and -1)\n",
        "* mean onoff state (the proportion of other lights in the home that are on)"
      ]
    },
    {
      "metadata": {
        "id": "bYrscVwpFVYN",
        "colab_type": "text"
      },
      "cell_type": "markdown",
      "source": [
        "**Exercise:** Which of these features would you expect to be the most important? Can you think of any other features that would help?"
      ]
    },
    {
      "metadata": {
        "id": "U-Lj6MnRwFgD",
        "colab_type": "text"
      },
      "cell_type": "markdown",
      "source": [
        "First lets executre the code from the lecture and the code from the slides, just to make sure it works."
      ]
    },
    {
      "metadata": {
        "id": "iMp8_Qo2GvgF",
        "colab_type": "code",
        "colab": {}
      },
      "cell_type": "code",
      "source": [
        "# import some modules that we will use in the notebook\n",
        "import tensorflow as tf\n",
        "from tensorflow import keras\n",
        "import numpy as np\n",
        "import pandas as pd"
      ],
      "execution_count": 0,
      "outputs": []
    },
    {
      "metadata": {
        "id": "KjglX-RA-obL",
        "colab_type": "code",
        "outputId": "b0321b20-90f5-475b-f5a8-6dcec3b76aa5",
        "colab": {
          "base_uri": "https://localhost:8080/",
          "height": 3776
        }
      },
      "cell_type": "code",
      "source": [
        "# code from the week 1 lectures\n",
        "model = tf.keras.Sequential([keras.layers.Dense(units=1, input_shape=[1])])\n",
        "model.compile(optimizer='sgd', loss='mean_squared_error')\n",
        "\n",
        "xs = np.array([-1.0,  0.0, 1.0, 2.0, 3.0, 4.0, 5.0, 6.0, 7.0, 8.0], dtype=float)\n",
        "ys = np.array([-3.0, -1.0, 1.0, 3.0, 5.0, 7.0, 9.0, 11.0, 13.0, 15.0], dtype=float)\n",
        "\n",
        "model.fit(xs, ys, epochs=100)\n",
        "\n",
        "print(\"prediction = %s\" % model.predict([1]))"
      ],
      "execution_count": 0,
      "outputs": [
        {
          "output_type": "stream",
          "text": [
            "Epoch 1/100\n",
            "10/10 [==============================] - 0s 18ms/sample - loss: 217.9107\n",
            "Epoch 2/100\n",
            "10/10 [==============================] - 0s 424us/sample - loss: 73.3834\n",
            "Epoch 3/100\n",
            "10/10 [==============================] - 0s 515us/sample - loss: 25.1200\n",
            "Epoch 4/100\n",
            "10/10 [==============================] - 0s 159us/sample - loss: 8.9965\n",
            "Epoch 5/100\n",
            "10/10 [==============================] - 0s 629us/sample - loss: 3.6039\n",
            "Epoch 6/100\n",
            "10/10 [==============================] - 0s 466us/sample - loss: 1.7941\n",
            "Epoch 7/100\n",
            "10/10 [==============================] - 0s 159us/sample - loss: 1.1806\n",
            "Epoch 8/100\n",
            "10/10 [==============================] - 0s 283us/sample - loss: 0.9667\n",
            "Epoch 9/100\n",
            "10/10 [==============================] - 0s 170us/sample - loss: 0.8864\n",
            "Epoch 10/100\n",
            "10/10 [==============================] - 0s 124us/sample - loss: 0.8508\n",
            "Epoch 11/100\n",
            "10/10 [==============================] - 0s 156us/sample - loss: 0.8303\n",
            "Epoch 12/100\n",
            "10/10 [==============================] - 0s 134us/sample - loss: 0.8150\n",
            "Epoch 13/100\n",
            "10/10 [==============================] - 0s 225us/sample - loss: 0.8014\n",
            "Epoch 14/100\n",
            "10/10 [==============================] - 0s 207us/sample - loss: 0.7887\n",
            "Epoch 15/100\n",
            "10/10 [==============================] - 0s 153us/sample - loss: 0.7763\n",
            "Epoch 16/100\n",
            "10/10 [==============================] - 0s 149us/sample - loss: 0.7642\n",
            "Epoch 17/100\n",
            "10/10 [==============================] - 0s 147us/sample - loss: 0.7523\n",
            "Epoch 18/100\n",
            "10/10 [==============================] - 0s 161us/sample - loss: 0.7406\n",
            "Epoch 19/100\n",
            "10/10 [==============================] - 0s 134us/sample - loss: 0.7290\n",
            "Epoch 20/100\n",
            "10/10 [==============================] - 0s 96us/sample - loss: 0.7177\n",
            "Epoch 21/100\n",
            "10/10 [==============================] - 0s 174us/sample - loss: 0.7065\n",
            "Epoch 22/100\n",
            "10/10 [==============================] - 0s 96us/sample - loss: 0.6955\n",
            "Epoch 23/100\n",
            "10/10 [==============================] - 0s 124us/sample - loss: 0.6847\n",
            "Epoch 24/100\n",
            "10/10 [==============================] - 0s 133us/sample - loss: 0.6740\n",
            "Epoch 25/100\n",
            "10/10 [==============================] - 0s 110us/sample - loss: 0.6635\n",
            "Epoch 26/100\n",
            "10/10 [==============================] - 0s 138us/sample - loss: 0.6532\n",
            "Epoch 27/100\n",
            "10/10 [==============================] - 0s 147us/sample - loss: 0.6430\n",
            "Epoch 28/100\n",
            "10/10 [==============================] - 0s 129us/sample - loss: 0.6330\n",
            "Epoch 29/100\n",
            "10/10 [==============================] - 0s 140us/sample - loss: 0.6232\n",
            "Epoch 30/100\n",
            "10/10 [==============================] - 0s 111us/sample - loss: 0.6134\n",
            "Epoch 31/100\n",
            "10/10 [==============================] - 0s 113us/sample - loss: 0.6039\n",
            "Epoch 32/100\n",
            "10/10 [==============================] - 0s 111us/sample - loss: 0.5945\n",
            "Epoch 33/100\n",
            "10/10 [==============================] - 0s 149us/sample - loss: 0.5852\n",
            "Epoch 34/100\n",
            "10/10 [==============================] - 0s 154us/sample - loss: 0.5761\n",
            "Epoch 35/100\n",
            "10/10 [==============================] - 0s 189us/sample - loss: 0.5672\n",
            "Epoch 36/100\n",
            "10/10 [==============================] - 0s 149us/sample - loss: 0.5583\n",
            "Epoch 37/100\n",
            "10/10 [==============================] - 0s 145us/sample - loss: 0.5496\n",
            "Epoch 38/100\n",
            "10/10 [==============================] - 0s 138us/sample - loss: 0.5411\n",
            "Epoch 39/100\n",
            "10/10 [==============================] - 0s 136us/sample - loss: 0.5326\n",
            "Epoch 40/100\n",
            "10/10 [==============================] - 0s 291us/sample - loss: 0.5243\n",
            "Epoch 41/100\n",
            "10/10 [==============================] - 0s 253us/sample - loss: 0.5162\n",
            "Epoch 42/100\n",
            "10/10 [==============================] - 0s 238us/sample - loss: 0.5081\n",
            "Epoch 43/100\n",
            "10/10 [==============================] - 0s 264us/sample - loss: 0.5002\n",
            "Epoch 44/100\n",
            "10/10 [==============================] - 0s 260us/sample - loss: 0.4924\n",
            "Epoch 45/100\n",
            "10/10 [==============================] - 0s 152us/sample - loss: 0.4848\n",
            "Epoch 46/100\n",
            "10/10 [==============================] - 0s 209us/sample - loss: 0.4772\n",
            "Epoch 47/100\n",
            "10/10 [==============================] - 0s 146us/sample - loss: 0.4698\n",
            "Epoch 48/100\n",
            "10/10 [==============================] - 0s 252us/sample - loss: 0.4625\n",
            "Epoch 49/100\n",
            "10/10 [==============================] - 0s 221us/sample - loss: 0.4553\n",
            "Epoch 50/100\n",
            "10/10 [==============================] - 0s 152us/sample - loss: 0.4482\n",
            "Epoch 51/100\n",
            "10/10 [==============================] - 0s 360us/sample - loss: 0.4412\n",
            "Epoch 52/100\n",
            "10/10 [==============================] - 0s 114us/sample - loss: 0.4343\n",
            "Epoch 53/100\n",
            "10/10 [==============================] - 0s 107us/sample - loss: 0.4276\n",
            "Epoch 54/100\n",
            "10/10 [==============================] - 0s 172us/sample - loss: 0.4209\n",
            "Epoch 55/100\n",
            "10/10 [==============================] - 0s 149us/sample - loss: 0.4144\n",
            "Epoch 56/100\n",
            "10/10 [==============================] - 0s 162us/sample - loss: 0.4079\n",
            "Epoch 57/100\n",
            "10/10 [==============================] - 0s 145us/sample - loss: 0.4016\n",
            "Epoch 58/100\n",
            "10/10 [==============================] - 0s 145us/sample - loss: 0.3953\n",
            "Epoch 59/100\n",
            "10/10 [==============================] - 0s 146us/sample - loss: 0.3891\n",
            "Epoch 60/100\n",
            "10/10 [==============================] - 0s 147us/sample - loss: 0.3831\n",
            "Epoch 61/100\n",
            "10/10 [==============================] - 0s 375us/sample - loss: 0.3771\n",
            "Epoch 62/100\n",
            "10/10 [==============================] - 0s 444us/sample - loss: 0.3712\n",
            "Epoch 63/100\n",
            "10/10 [==============================] - 0s 295us/sample - loss: 0.3655\n",
            "Epoch 64/100\n",
            "10/10 [==============================] - 0s 513us/sample - loss: 0.3598\n",
            "Epoch 65/100\n",
            "10/10 [==============================] - 0s 336us/sample - loss: 0.3542\n",
            "Epoch 66/100\n",
            "10/10 [==============================] - 0s 163us/sample - loss: 0.3487\n",
            "Epoch 67/100\n",
            "10/10 [==============================] - 0s 271us/sample - loss: 0.3432\n",
            "Epoch 68/100\n",
            "10/10 [==============================] - 0s 164us/sample - loss: 0.3379\n",
            "Epoch 69/100\n",
            "10/10 [==============================] - 0s 137us/sample - loss: 0.3326\n",
            "Epoch 70/100\n",
            "10/10 [==============================] - 0s 139us/sample - loss: 0.3274\n",
            "Epoch 71/100\n",
            "10/10 [==============================] - 0s 145us/sample - loss: 0.3223\n",
            "Epoch 72/100\n",
            "10/10 [==============================] - 0s 136us/sample - loss: 0.3173\n",
            "Epoch 73/100\n",
            "10/10 [==============================] - 0s 152us/sample - loss: 0.3124\n",
            "Epoch 74/100\n",
            "10/10 [==============================] - 0s 137us/sample - loss: 0.3075\n",
            "Epoch 75/100\n",
            "10/10 [==============================] - 0s 130us/sample - loss: 0.3027\n",
            "Epoch 76/100\n",
            "10/10 [==============================] - 0s 166us/sample - loss: 0.2980\n",
            "Epoch 77/100\n",
            "10/10 [==============================] - 0s 132us/sample - loss: 0.2934\n",
            "Epoch 78/100\n",
            "10/10 [==============================] - 0s 129us/sample - loss: 0.2888\n",
            "Epoch 79/100\n",
            "10/10 [==============================] - 0s 124us/sample - loss: 0.2843\n",
            "Epoch 80/100\n",
            "10/10 [==============================] - 0s 140us/sample - loss: 0.2799\n",
            "Epoch 81/100\n",
            "10/10 [==============================] - 0s 133us/sample - loss: 0.2755\n",
            "Epoch 82/100\n",
            "10/10 [==============================] - 0s 118us/sample - loss: 0.2712\n",
            "Epoch 83/100\n",
            "10/10 [==============================] - 0s 117us/sample - loss: 0.2670\n",
            "Epoch 84/100\n",
            "10/10 [==============================] - 0s 141us/sample - loss: 0.2629\n",
            "Epoch 85/100\n",
            "10/10 [==============================] - 0s 144us/sample - loss: 0.2588\n",
            "Epoch 86/100\n",
            "10/10 [==============================] - 0s 117us/sample - loss: 0.2547\n",
            "Epoch 87/100\n",
            "10/10 [==============================] - 0s 128us/sample - loss: 0.2508\n",
            "Epoch 88/100\n",
            "10/10 [==============================] - 0s 113us/sample - loss: 0.2469\n",
            "Epoch 89/100\n",
            "10/10 [==============================] - 0s 123us/sample - loss: 0.2430\n",
            "Epoch 90/100\n",
            "10/10 [==============================] - 0s 156us/sample - loss: 0.2392\n",
            "Epoch 91/100\n",
            "10/10 [==============================] - 0s 128us/sample - loss: 0.2355\n",
            "Epoch 92/100\n",
            "10/10 [==============================] - 0s 126us/sample - loss: 0.2318\n",
            "Epoch 93/100\n",
            "10/10 [==============================] - 0s 137us/sample - loss: 0.2282\n",
            "Epoch 94/100\n",
            "10/10 [==============================] - 0s 110us/sample - loss: 0.2247\n",
            "Epoch 95/100\n",
            "10/10 [==============================] - 0s 129us/sample - loss: 0.2212\n",
            "Epoch 96/100\n",
            "10/10 [==============================] - 0s 213us/sample - loss: 0.2177\n",
            "Epoch 97/100\n",
            "10/10 [==============================] - 0s 154us/sample - loss: 0.2143\n",
            "Epoch 98/100\n",
            "10/10 [==============================] - 0s 167us/sample - loss: 0.2110\n",
            "Epoch 99/100\n",
            "10/10 [==============================] - 0s 192us/sample - loss: 0.2077\n",
            "Epoch 100/100\n",
            "10/10 [==============================] - 0s 177us/sample - loss: 0.2045\n",
            "prediction = [[1.583987]]\n"
          ],
          "name": "stdout"
        }
      ]
    },
    {
      "metadata": {
        "id": "RTSmOnCOVKTD",
        "colab_type": "text"
      },
      "cell_type": "markdown",
      "source": [
        "##  Classification Network"
      ]
    },
    {
      "metadata": {
        "id": "onKJiXsFVCrl",
        "colab_type": "text"
      },
      "cell_type": "markdown",
      "source": [
        "Next expand our network to perform *classification* instead.\n",
        "\n",
        "We typically use [cross-entroy](https://https://en.wikipedia.org/wiki/Cross_entropy) for classification, and the Adam optimizer instead of SGD (see here for comparison: http://ruder.io/optimizing-gradient-descent/). Adam tends to not diverge as much as SGD.\n"
      ]
    },
    {
      "metadata": {
        "id": "NFdhrUzQwGCb",
        "colab_type": "code",
        "outputId": "5b9b1249-155d-43bd-c06e-619416f54cf6",
        "colab": {
          "base_uri": "https://localhost:8080/",
          "height": 607
        }
      },
      "cell_type": "code",
      "source": [
        "# code from the slides\n",
        "\n",
        "# Init new empty feed-forward network\n",
        "model = tf.keras.Sequential()\n",
        "\n",
        "# Add a single neuron\n",
        "model.add(keras.layers.Dense(1, input_shape=[1], activation=\"relu\"))\n",
        "\n",
        "# Add SoftMax layer to turn output into two classes\n",
        "model.add(keras.layers.Dense(2, activation=\"softmax\"))\n",
        "\n",
        "# Define an optimizer for classification.\n",
        "model.compile(optimizer='adam', loss='categorical_crossentropy', metrics=[\"accuracy\"])\n",
        "\n",
        "# Print out the model structure\n",
        "model.summary()\n",
        "\n",
        "# Define some dummy input data\n",
        "xs = np.array([-1.0, 2.0, -3.0, 4.0, -5.0, 6.0], dtype=float)\n",
        "ys = np.array([[0, 1], [1, 0], [0, 1], [1, 0], [0, 1], [1, 0]], dtype=float)\n",
        "\n",
        "# Fit model to the data\n",
        "model.fit(xs, ys, epochs=10)\n",
        "\n",
        "# Evaluate the model on two sample inputs (-2 and 2)\n",
        "print(\"prediction = %s\" % model.predict([-2, 2]))"
      ],
      "execution_count": 0,
      "outputs": [
        {
          "output_type": "stream",
          "text": [
            "_________________________________________________________________\n",
            "Layer (type)                 Output Shape              Param #   \n",
            "=================================================================\n",
            "dense_4 (Dense)              (None, 1)                 2         \n",
            "_________________________________________________________________\n",
            "dense_5 (Dense)              (None, 2)                 4         \n",
            "=================================================================\n",
            "Total params: 6\n",
            "Trainable params: 6\n",
            "Non-trainable params: 0\n",
            "_________________________________________________________________\n",
            "Epoch 1/10\n",
            "6/6 [==============================] - 0s 21ms/sample - loss: 0.5098 - acc: 0.5000\n",
            "Epoch 2/10\n",
            "6/6 [==============================] - 0s 569us/sample - loss: 0.5088 - acc: 1.0000\n",
            "Epoch 3/10\n",
            "6/6 [==============================] - 0s 321us/sample - loss: 0.5078 - acc: 1.0000\n",
            "Epoch 4/10\n",
            "6/6 [==============================] - 0s 608us/sample - loss: 0.5068 - acc: 1.0000\n",
            "Epoch 5/10\n",
            "6/6 [==============================] - 0s 298us/sample - loss: 0.5058 - acc: 1.0000\n",
            "Epoch 6/10\n",
            "6/6 [==============================] - 0s 466us/sample - loss: 0.5048 - acc: 1.0000\n",
            "Epoch 7/10\n",
            "6/6 [==============================] - 0s 534us/sample - loss: 0.5038 - acc: 1.0000\n",
            "Epoch 8/10\n",
            "6/6 [==============================] - 0s 392us/sample - loss: 0.5028 - acc: 1.0000\n",
            "Epoch 9/10\n",
            "6/6 [==============================] - 0s 431us/sample - loss: 0.5018 - acc: 1.0000\n",
            "Epoch 10/10\n",
            "6/6 [==============================] - 0s 534us/sample - loss: 0.5008 - acc: 1.0000\n",
            "prediction = [[0.4949984  0.5050016 ]\n",
            " [0.6275761  0.37242392]]\n"
          ],
          "name": "stdout"
        }
      ]
    },
    {
      "metadata": {
        "id": "57vUuJdl_TyQ",
        "colab_type": "text"
      },
      "cell_type": "markdown",
      "source": [
        "**Exercise:** Do the above predictions look correct? Why are there four outputs from the two inputs?"
      ]
    },
    {
      "metadata": {
        "id": "PjBpIYCM_aXf",
        "colab_type": "text"
      },
      "cell_type": "markdown",
      "source": [
        "Now lets load my smart home dataset:"
      ]
    },
    {
      "metadata": {
        "id": "1eQY4AI4G8Ro",
        "colab_type": "code",
        "outputId": "194f4203-36ba-4a3c-f1ca-682a27e4729d",
        "colab": {
          "base_uri": "https://localhost:8080/",
          "height": 313
        }
      },
      "cell_type": "code",
      "source": [
        "# make the dataset accessible to this notebook\n",
        "!git clone https://github.com/ceabrett/tf_course.git\n",
        "\n",
        "# load the dataset into a pandas dataframe and show the beginning of the dataset\n",
        "df = pd.read_csv(\"tf_course/data.csv\")\n",
        "df.head()"
      ],
      "execution_count": 0,
      "outputs": [
        {
          "output_type": "stream",
          "text": [
            "Cloning into 'tf_course'...\n",
            "remote: Enumerating objects: 62, done.\u001b[K\n",
            "remote: Counting objects: 100% (62/62), done.\u001b[K\n",
            "remote: Compressing objects: 100% (53/53), done.\u001b[K\n",
            "remote: Total 62 (delta 31), reused 16 (delta 5), pack-reused 0\u001b[K\n",
            "Unpacking objects: 100% (62/62), done.\n"
          ],
          "name": "stdout"
        },
        {
          "output_type": "execute_result",
          "data": {
            "text/html": [
              "<div>\n",
              "<style scoped>\n",
              "    .dataframe tbody tr th:only-of-type {\n",
              "        vertical-align: middle;\n",
              "    }\n",
              "\n",
              "    .dataframe tbody tr th {\n",
              "        vertical-align: top;\n",
              "    }\n",
              "\n",
              "    .dataframe thead th {\n",
              "        text-align: right;\n",
              "    }\n",
              "</style>\n",
              "<table border=\"1\" class=\"dataframe\">\n",
              "  <thead>\n",
              "    <tr style=\"text-align: right;\">\n",
              "      <th></th>\n",
              "      <th>dow_f</th>\n",
              "      <th>hour_f</th>\n",
              "      <th>log_mins_since_any_onoff</th>\n",
              "      <th>log_mins_since_utt</th>\n",
              "      <th>mean_onoff_state</th>\n",
              "      <th>state</th>\n",
              "      <th>sun_elevation</th>\n",
              "    </tr>\n",
              "  </thead>\n",
              "  <tbody>\n",
              "    <tr>\n",
              "      <th>0</th>\n",
              "      <td>3.666667</td>\n",
              "      <td>16.00</td>\n",
              "      <td>3.418493</td>\n",
              "      <td>6.053619</td>\n",
              "      <td>0.2</td>\n",
              "      <td>1</td>\n",
              "      <td>0.024071</td>\n",
              "    </tr>\n",
              "    <tr>\n",
              "      <th>1</th>\n",
              "      <td>3.677083</td>\n",
              "      <td>16.25</td>\n",
              "      <td>3.818226</td>\n",
              "      <td>6.088252</td>\n",
              "      <td>0.2</td>\n",
              "      <td>1</td>\n",
              "      <td>0.004045</td>\n",
              "    </tr>\n",
              "    <tr>\n",
              "      <th>2</th>\n",
              "      <td>3.687500</td>\n",
              "      <td>16.50</td>\n",
              "      <td>4.103030</td>\n",
              "      <td>6.121726</td>\n",
              "      <td>0.2</td>\n",
              "      <td>1</td>\n",
              "      <td>-0.016666</td>\n",
              "    </tr>\n",
              "    <tr>\n",
              "      <th>3</th>\n",
              "      <td>3.697917</td>\n",
              "      <td>16.75</td>\n",
              "      <td>4.324442</td>\n",
              "      <td>6.154116</td>\n",
              "      <td>0.2</td>\n",
              "      <td>1</td>\n",
              "      <td>-0.047375</td>\n",
              "    </tr>\n",
              "    <tr>\n",
              "      <th>4</th>\n",
              "      <td>3.708333</td>\n",
              "      <td>17.00</td>\n",
              "      <td>1.963954</td>\n",
              "      <td>1.368262</td>\n",
              "      <td>0.4</td>\n",
              "      <td>1</td>\n",
              "      <td>-0.073805</td>\n",
              "    </tr>\n",
              "  </tbody>\n",
              "</table>\n",
              "</div>"
            ],
            "text/plain": [
              "      dow_f  hour_f  log_mins_since_any_onoff  log_mins_since_utt  \\\n",
              "0  3.666667   16.00                  3.418493            6.053619   \n",
              "1  3.677083   16.25                  3.818226            6.088252   \n",
              "2  3.687500   16.50                  4.103030            6.121726   \n",
              "3  3.697917   16.75                  4.324442            6.154116   \n",
              "4  3.708333   17.00                  1.963954            1.368262   \n",
              "\n",
              "   mean_onoff_state  state  sun_elevation  \n",
              "0               0.2      1       0.024071  \n",
              "1               0.2      1       0.004045  \n",
              "2               0.2      1      -0.016666  \n",
              "3               0.2      1      -0.047375  \n",
              "4               0.4      1      -0.073805  "
            ]
          },
          "metadata": {
            "tags": []
          },
          "execution_count": 8
        }
      ]
    },
    {
      "metadata": {
        "id": "kOBSwpMFHb8v",
        "colab_type": "code",
        "outputId": "b5b84c9e-e2b3-47ca-83e8-7c0a631f5129",
        "colab": {
          "base_uri": "https://localhost:8080/",
          "height": 300
        }
      },
      "cell_type": "code",
      "source": [
        "# some summary statistics about the data\n",
        "df.describe()"
      ],
      "execution_count": 0,
      "outputs": [
        {
          "output_type": "execute_result",
          "data": {
            "text/html": [
              "<div>\n",
              "<style scoped>\n",
              "    .dataframe tbody tr th:only-of-type {\n",
              "        vertical-align: middle;\n",
              "    }\n",
              "\n",
              "    .dataframe tbody tr th {\n",
              "        vertical-align: top;\n",
              "    }\n",
              "\n",
              "    .dataframe thead th {\n",
              "        text-align: right;\n",
              "    }\n",
              "</style>\n",
              "<table border=\"1\" class=\"dataframe\">\n",
              "  <thead>\n",
              "    <tr style=\"text-align: right;\">\n",
              "      <th></th>\n",
              "      <th>dow_f</th>\n",
              "      <th>hour_f</th>\n",
              "      <th>log_mins_since_any_onoff</th>\n",
              "      <th>log_mins_since_utt</th>\n",
              "      <th>mean_onoff_state</th>\n",
              "      <th>state</th>\n",
              "      <th>sun_elevation</th>\n",
              "    </tr>\n",
              "  </thead>\n",
              "  <tbody>\n",
              "    <tr>\n",
              "      <th>count</th>\n",
              "      <td>5953.000000</td>\n",
              "      <td>5953.000000</td>\n",
              "      <td>5953.000000</td>\n",
              "      <td>5953.000000</td>\n",
              "      <td>5953.000000</td>\n",
              "      <td>5953.000000</td>\n",
              "      <td>5953.000000</td>\n",
              "    </tr>\n",
              "    <tr>\n",
              "      <th>mean</th>\n",
              "      <td>3.500028</td>\n",
              "      <td>11.875693</td>\n",
              "      <td>4.463248</td>\n",
              "      <td>5.275338</td>\n",
              "      <td>0.235272</td>\n",
              "      <td>0.263901</td>\n",
              "      <td>-0.178586</td>\n",
              "    </tr>\n",
              "    <tr>\n",
              "      <th>std</th>\n",
              "      <td>2.036206</td>\n",
              "      <td>6.928034</td>\n",
              "      <td>1.342702</td>\n",
              "      <td>1.261047</td>\n",
              "      <td>0.171756</td>\n",
              "      <td>0.440783</td>\n",
              "      <td>0.324940</td>\n",
              "    </tr>\n",
              "    <tr>\n",
              "      <th>min</th>\n",
              "      <td>0.000000</td>\n",
              "      <td>0.000000</td>\n",
              "      <td>0.011682</td>\n",
              "      <td>0.021452</td>\n",
              "      <td>0.000000</td>\n",
              "      <td>0.000000</td>\n",
              "      <td>-0.730116</td>\n",
              "    </tr>\n",
              "    <tr>\n",
              "      <th>25%</th>\n",
              "      <td>1.718750</td>\n",
              "      <td>6.000000</td>\n",
              "      <td>3.683634</td>\n",
              "      <td>4.625277</td>\n",
              "      <td>0.071429</td>\n",
              "      <td>0.000000</td>\n",
              "      <td>-0.484594</td>\n",
              "    </tr>\n",
              "    <tr>\n",
              "      <th>50%</th>\n",
              "      <td>3.531250</td>\n",
              "      <td>12.000000</td>\n",
              "      <td>4.715919</td>\n",
              "      <td>5.515032</td>\n",
              "      <td>0.214286</td>\n",
              "      <td>0.000000</td>\n",
              "      <td>-0.155060</td>\n",
              "    </tr>\n",
              "    <tr>\n",
              "      <th>75%</th>\n",
              "      <td>5.270833</td>\n",
              "      <td>17.750000</td>\n",
              "      <td>5.482503</td>\n",
              "      <td>6.136417</td>\n",
              "      <td>0.357143</td>\n",
              "      <td>1.000000</td>\n",
              "      <td>0.133980</td>\n",
              "    </tr>\n",
              "    <tr>\n",
              "      <th>max</th>\n",
              "      <td>6.989583</td>\n",
              "      <td>23.750000</td>\n",
              "      <td>7.572345</td>\n",
              "      <td>8.006151</td>\n",
              "      <td>0.800000</td>\n",
              "      <td>1.000000</td>\n",
              "      <td>0.350472</td>\n",
              "    </tr>\n",
              "  </tbody>\n",
              "</table>\n",
              "</div>"
            ],
            "text/plain": [
              "             dow_f       hour_f  log_mins_since_any_onoff  log_mins_since_utt  \\\n",
              "count  5953.000000  5953.000000               5953.000000         5953.000000   \n",
              "mean      3.500028    11.875693                  4.463248            5.275338   \n",
              "std       2.036206     6.928034                  1.342702            1.261047   \n",
              "min       0.000000     0.000000                  0.011682            0.021452   \n",
              "25%       1.718750     6.000000                  3.683634            4.625277   \n",
              "50%       3.531250    12.000000                  4.715919            5.515032   \n",
              "75%       5.270833    17.750000                  5.482503            6.136417   \n",
              "max       6.989583    23.750000                  7.572345            8.006151   \n",
              "\n",
              "       mean_onoff_state        state  sun_elevation  \n",
              "count       5953.000000  5953.000000    5953.000000  \n",
              "mean           0.235272     0.263901      -0.178586  \n",
              "std            0.171756     0.440783       0.324940  \n",
              "min            0.000000     0.000000      -0.730116  \n",
              "25%            0.071429     0.000000      -0.484594  \n",
              "50%            0.214286     0.000000      -0.155060  \n",
              "75%            0.357143     1.000000       0.133980  \n",
              "max            0.800000     1.000000       0.350472  "
            ]
          },
          "metadata": {
            "tags": []
          },
          "execution_count": 9
        }
      ]
    },
    {
      "metadata": {
        "id": "hYCo_vw6Fwdm",
        "colab_type": "text"
      },
      "cell_type": "markdown",
      "source": [
        "The dataset contains several features for a  number of samples that are snapshots of the current state of a light:\n",
        "* dow_f: Numerical day-of-week feature\n",
        "* hour_f: Numerical hour since midnight\n",
        "* log_mins_since_any_onoff: Minutes since last on/off switch of any device\n",
        "* log_mins_since_utt: Minutes since customer said something to Alexa\n",
        "* mean_onoff_state: Fraction of time this device is on on overage\n",
        "* state: The actual state (0=off, 1=on; other values are dimmed light)\n",
        "* sun_elevation: Encoding of day-night cycle\n",
        "\n",
        "We want to predict \"state\" using everything else as a feature, so lets seperate them. Tensorflow expects us to pass seperately the features and the label to the fit function."
      ]
    },
    {
      "metadata": {
        "id": "0rSdfzbtJJBU",
        "colab_type": "code",
        "outputId": "099f2aa5-3b8b-424f-c8ed-50880ef1beda",
        "colab": {
          "base_uri": "https://localhost:8080/",
          "height": 35
        }
      },
      "cell_type": "code",
      "source": [
        "# to keep things simple initially, lets just use 1 feature, \"hour_f\"\n",
        "feat_names = [\"hour_f\"]\n",
        "\n",
        "# later we can use all features by uncommenting the below line\n",
        "#feat_names = [feat_name for feat_name in df.columns if feat_name != \"state\"]\n",
        "\n",
        "feats = df[feat_names]\n",
        "label = df[\"state\"]\n",
        "\n",
        "# tensorflow is expecting the features vector to be a 2 dimensional array, not a pandas dataframe. But we can get the underlying array with .values\n",
        "xs_light = feats.values\n",
        "ys_light = label.values\n",
        "\n",
        "# for classification into 2 classes our output dimension should be 2\n",
        "# currently ys looks like [0, 1, 0 ...], but we want [[0, 1], [1, 0], [0, 1],..]\n",
        "# luckily there is a helper function which does this mapping for us\n",
        "from keras.utils import np_utils\n",
        "ys_light = np_utils.to_categorical(ys_light, 2)"
      ],
      "execution_count": 0,
      "outputs": [
        {
          "output_type": "stream",
          "text": [
            "Using TensorFlow backend.\n"
          ],
          "name": "stderr"
        }
      ]
    },
    {
      "metadata": {
        "id": "bvIWL1FVLcWI",
        "colab_type": "text"
      },
      "cell_type": "markdown",
      "source": [
        "Now lets train our classification model on the real data."
      ]
    },
    {
      "metadata": {
        "id": "7GEwAbByKOuf",
        "colab_type": "code",
        "outputId": "1a5d2101-3a77-4d2e-96a7-6490c2b2f73e",
        "colab": {
          "base_uri": "https://localhost:8080/",
          "height": 607
        }
      },
      "cell_type": "code",
      "source": [
        "# code from the slides\n",
        "model = tf.keras.Sequential()\n",
        "\n",
        "# Single-neuron layer for a single input, as in the coursera example\n",
        "model.add(keras.layers.Dense(1, input_shape=[1], activation=\"relu\"))\n",
        "\n",
        "# Adding a SoftMax layer with two outputs (for off and on) to turn the output into a two-class classification\n",
        "model.add(keras.layers.Dense(2, activation=\"softmax\"))\n",
        "\n",
        "# Cross-entropy optimizer for classification\n",
        "model.compile(optimizer='adam', loss='categorical_crossentropy', metrics=[\"accuracy\"])\n",
        "\n",
        "# Print model graph summary\n",
        "model.summary()\n",
        "\n",
        "# Fit model parameters to data\n",
        "model.fit(xs_light, ys_light, epochs=10)\n",
        "\n",
        "# Make two predictions for the state of a light at hours 4 and 17.\n",
        "print(\"prediction = %s\" % model.predict([4, 17]))"
      ],
      "execution_count": 0,
      "outputs": [
        {
          "output_type": "stream",
          "text": [
            "_________________________________________________________________\n",
            "Layer (type)                 Output Shape              Param #   \n",
            "=================================================================\n",
            "dense_6 (Dense)              (None, 1)                 2         \n",
            "_________________________________________________________________\n",
            "dense_7 (Dense)              (None, 2)                 4         \n",
            "=================================================================\n",
            "Total params: 6\n",
            "Trainable params: 6\n",
            "Non-trainable params: 0\n",
            "_________________________________________________________________\n",
            "Epoch 1/10\n",
            "5953/5953 [==============================] - 0s 75us/sample - loss: 0.7742 - acc: 0.7104\n",
            "Epoch 2/10\n",
            "5953/5953 [==============================] - 0s 48us/sample - loss: 0.6369 - acc: 0.7361\n",
            "Epoch 3/10\n",
            "5953/5953 [==============================] - 0s 48us/sample - loss: 0.6065 - acc: 0.7361\n",
            "Epoch 4/10\n",
            "5953/5953 [==============================] - 0s 40us/sample - loss: 0.5838 - acc: 0.7361\n",
            "Epoch 5/10\n",
            "5953/5953 [==============================] - 0s 38us/sample - loss: 0.5663 - acc: 0.7361\n",
            "Epoch 6/10\n",
            "5953/5953 [==============================] - 0s 38us/sample - loss: 0.5526 - acc: 0.7361\n",
            "Epoch 7/10\n",
            "5953/5953 [==============================] - 0s 38us/sample - loss: 0.5423 - acc: 0.7361\n",
            "Epoch 8/10\n",
            "5953/5953 [==============================] - 0s 38us/sample - loss: 0.5338 - acc: 0.7361\n",
            "Epoch 9/10\n",
            "5953/5953 [==============================] - 0s 38us/sample - loss: 0.5276 - acc: 0.7253\n",
            "Epoch 10/10\n",
            "5953/5953 [==============================] - 0s 37us/sample - loss: 0.5222 - acc: 0.7290\n",
            "prediction = [[0.8221585  0.17784156]\n",
            " [0.62194824 0.37805182]]\n"
          ],
          "name": "stdout"
        }
      ]
    },
    {
      "metadata": {
        "id": "J8RJJ0SKBsnE",
        "colab_type": "text"
      },
      "cell_type": "markdown",
      "source": [
        "**Exercise:** Do these predictions make sense?"
      ]
    },
    {
      "metadata": {
        "id": "kGKBk4T1Bzmi",
        "colab_type": "text"
      },
      "cell_type": "markdown",
      "source": [
        "Let's visualize our model to see if we can better understand what is going on."
      ]
    },
    {
      "metadata": {
        "id": "hPztkdtXSRQu",
        "colab_type": "code",
        "outputId": "139c9704-648f-493d-a601-70cac5d44583",
        "colab": {
          "base_uri": "https://localhost:8080/",
          "height": 787
        }
      },
      "cell_type": "code",
      "source": [
        "import matplotlib.pyplot as plt\n",
        "\n",
        "def plot(model):\n",
        "  # plot one point for each hour of the day\n",
        "  hours = range(23)\n",
        "  preds = model.predict(hours)\n",
        "  print(\"predictions = %s\" % preds)\n",
        "  plt.plot(hours, preds[:, -1])\n",
        "  plt.xlabel(\"Hour of day\")\n",
        "  plt.ylabel(\"Probability that light is 'ON'\")\n",
        "  plt.title(\"Prediction by hour of day\")\n",
        "  \n",
        "plot(model)"
      ],
      "execution_count": 0,
      "outputs": [
        {
          "output_type": "stream",
          "text": [
            "predictions = [[0.86018336 0.13981663]\n",
            " [0.8543923  0.14560771]\n",
            " [0.8442236  0.15577632]\n",
            " [0.83348334 0.16651668]\n",
            " [0.8221585  0.17784156]\n",
            " [0.8102387  0.1897613 ]\n",
            " [0.7977167  0.20228338]\n",
            " [0.78458786 0.2154121 ]\n",
            " [0.7708519  0.22914807]\n",
            " [0.7565116  0.24348834]\n",
            " [0.74157506 0.25842494]\n",
            " [0.7260539  0.27394614]\n",
            " [0.70996505 0.29003486]\n",
            " [0.69333065 0.30666938]\n",
            " [0.67617714 0.32382283]\n",
            " [0.65853685 0.34146315]\n",
            " [0.6404466  0.35955343]\n",
            " [0.62194824 0.37805182]\n",
            " [0.6030877  0.39691228]\n",
            " [0.58391553 0.4160844 ]\n",
            " [0.5644865  0.43551344]\n",
            " [0.5448572  0.4551428 ]\n",
            " [0.52508754 0.47491255]]\n"
          ],
          "name": "stdout"
        },
        {
          "output_type": "display_data",
          "data": {
            "image/png": "[encoded data removed]",
            "text/plain": [
              "<Figure size 576x396 with 1 Axes>"
            ]
          },
          "metadata": {
            "tags": []
          }
        }
      ]
    },
    {
      "metadata": {
        "id": "4_CMj2o_CIOH",
        "colab_type": "text"
      },
      "cell_type": "markdown",
      "source": [
        "OK, so later in the day it is more likely that the light is on. This is a believable pattern. But the fitted pattern seems overly simplistic. For example, there's a discontinuity from 23:59 to 00:00. We can do better.\n",
        "\n",
        "One way would be to train a more complex model (e.g. a deeper network with more neurons). Another way for this exercise it to perform \"feature engineering\", i.e. find a better representation of the features. Let's convert the hour-of-day into a two-dimensional representation - it can be understood as horizontal + vertical position of the hour-arm of an analog clock (https://ianlondon.github.io/blog/encoding-cyclical-features-24hour-time/):"
      ]
    },
    {
      "metadata": {
        "id": "dCsh0nSlUagy",
        "colab_type": "code",
        "outputId": "a1deee60-4b98-44c0-f02c-f062abfc7e3d",
        "colab": {
          "base_uri": "https://localhost:8080/",
          "height": 267
        }
      },
      "cell_type": "code",
      "source": [
        "# lets get more advanced and do a little \"feature engineering\"\n",
        "\n",
        "xs_light = df[[\"hour_f\"]].values\n",
        "print(\"xs before: %s\" % xs_light)\n",
        "\n",
        "# some magic math operations to convert this into a 2 dimensional variable\n",
        "import math\n",
        "def transform_hour(xs):\n",
        "  xs_cos = np.cos((2 * math.pi * xs) / 24.0)\n",
        "  xs_sin = np.sin((2 * math.pi * xs) / 24.0)\n",
        "  xs = np.concatenate([xs_cos, xs_sin], axis=1)\n",
        "  return xs\n",
        "\n",
        "xs_light = transform_hour(xs_light)\n",
        "print(\"xs after: %s\" % xs_light)"
      ],
      "execution_count": 0,
      "outputs": [
        {
          "output_type": "stream",
          "text": [
            "xs before: [[16.  ]\n",
            " [16.25]\n",
            " [16.5 ]\n",
            " ...\n",
            " [15.5 ]\n",
            " [15.75]\n",
            " [16.  ]]\n",
            "xs after: [[-0.5        -0.8660254 ]\n",
            " [-0.44228869 -0.89687274]\n",
            " [-0.38268343 -0.92387953]\n",
            " ...\n",
            " [-0.60876143 -0.79335334]\n",
            " [-0.55557023 -0.83146961]\n",
            " [-0.5        -0.8660254 ]]\n"
          ],
          "name": "stdout"
        }
      ]
    },
    {
      "metadata": {
        "id": "DuKnpHu8nYef",
        "colab_type": "text"
      },
      "cell_type": "markdown",
      "source": [
        "Now let's train a model on this new representation as its input. We need to increase the size of the input shape since we now have tow input features (see Keras documentation https://keras.io/layers/core/)."
      ]
    },
    {
      "metadata": {
        "id": "z5kw-t5UMYdz",
        "colab_type": "code",
        "outputId": "94476c17-a7bf-4fb9-93ae-b7cffd6bc2ee",
        "colab": {
          "base_uri": "https://localhost:8080/",
          "height": 589
        }
      },
      "cell_type": "code",
      "source": [
        "# train a model with these features\n",
        "model = tf.keras.Sequential()\n",
        "\n",
        "# The first layer now has two inputs (input_shape=[2])\n",
        "model.add(keras.layers.Dense(32, input_shape=[2], activation=\"relu\"))\n",
        "\n",
        "# Otherwise same structure. Two outputs for Off and On.\n",
        "model.add(keras.layers.Dense(2, activation=\"softmax\"))\n",
        "model.compile(optimizer='adam', loss='categorical_crossentropy', metrics=[\"accuracy\"])\n",
        "\n",
        "model.summary()\n",
        "\n",
        "model.fit(xs_light, ys_light, epochs=10)"
      ],
      "execution_count": 0,
      "outputs": [
        {
          "output_type": "stream",
          "text": [
            "_________________________________________________________________\n",
            "Layer (type)                 Output Shape              Param #   \n",
            "=================================================================\n",
            "dense_8 (Dense)              (None, 32)                96        \n",
            "_________________________________________________________________\n",
            "dense_9 (Dense)              (None, 2)                 66        \n",
            "=================================================================\n",
            "Total params: 162\n",
            "Trainable params: 162\n",
            "Non-trainable params: 0\n",
            "_________________________________________________________________\n",
            "Epoch 1/10\n",
            "5953/5953 [==============================] - 0s 64us/sample - loss: 0.6074 - acc: 0.6355\n",
            "Epoch 2/10\n",
            "5953/5953 [==============================] - 0s 40us/sample - loss: 0.4675 - acc: 0.7821\n",
            "Epoch 3/10\n",
            "5953/5953 [==============================] - 0s 39us/sample - loss: 0.4510 - acc: 0.7860\n",
            "Epoch 4/10\n",
            "5953/5953 [==============================] - 0s 38us/sample - loss: 0.4445 - acc: 0.7857\n",
            "Epoch 5/10\n",
            "5953/5953 [==============================] - 0s 38us/sample - loss: 0.4408 - acc: 0.7852\n",
            "Epoch 6/10\n",
            "5953/5953 [==============================] - 0s 40us/sample - loss: 0.4388 - acc: 0.7836\n",
            "Epoch 7/10\n",
            "5953/5953 [==============================] - 0s 39us/sample - loss: 0.4373 - acc: 0.7848\n",
            "Epoch 8/10\n",
            "5953/5953 [==============================] - 0s 39us/sample - loss: 0.4368 - acc: 0.7823\n",
            "Epoch 9/10\n",
            "5953/5953 [==============================] - 0s 39us/sample - loss: 0.4362 - acc: 0.7862\n",
            "Epoch 10/10\n",
            "5953/5953 [==============================] - 0s 39us/sample - loss: 0.4357 - acc: 0.7858\n"
          ],
          "name": "stdout"
        },
        {
          "output_type": "execute_result",
          "data": {
            "text/plain": [
              "<tensorflow.python.keras.callbacks.History at 0x7f0329e1e110>"
            ]
          },
          "metadata": {
            "tags": []
          },
          "execution_count": 14
        }
      ]
    },
    {
      "metadata": {
        "id": "zh0botCDnjmE",
        "colab_type": "text"
      },
      "cell_type": "markdown",
      "source": [
        "...and plot the model prediction for hours 0-23:"
      ]
    },
    {
      "metadata": {
        "id": "tPlbzXqvFS8A",
        "colab_type": "code",
        "outputId": "6b466ba4-86f2-4656-b60f-83a370bfca2b",
        "colab": {
          "base_uri": "https://localhost:8080/",
          "height": 1198
        }
      },
      "cell_type": "code",
      "source": [
        "import matplotlib.pyplot as plt\n",
        "def plot(model):\n",
        "  # plot one point for each hour of the day\n",
        "  hours = np.array([[h] for h in range(23)])\n",
        "  hours_transformed = transform_hour(hours)\n",
        "  preds = model.predict(hours_transformed)\n",
        "  print(preds)\n",
        "  print(\"predictions = %s\" % preds)\n",
        "  plt.plot(hours, preds[:, -1])\n",
        "  plt.xlabel(\"Hour of day\")\n",
        "  plt.ylabel(\"Probability that light is 'ON'\")\n",
        "  plt.title(\"Prediction by hour of day\")\n",
        "  \n",
        "plot(model)"
      ],
      "execution_count": 0,
      "outputs": [
        {
          "output_type": "stream",
          "text": [
            "[[0.9478528  0.05214717]\n",
            " [0.97855514 0.02144483]\n",
            " [0.98677874 0.01322127]\n",
            " [0.9882522  0.01174781]\n",
            " [0.98664516 0.01335483]\n",
            " [0.9782019  0.02179806]\n",
            " [0.95626533 0.04373465]\n",
            " [0.90411896 0.09588104]\n",
            " [0.7975486  0.20245138]\n",
            " [0.68964493 0.310355  ]\n",
            " [0.6979926  0.3020074 ]\n",
            " [0.71390283 0.28609717]\n",
            " [0.73522496 0.2647751 ]\n",
            " [0.7574867  0.24251328]\n",
            " [0.7502043  0.24979566]\n",
            " [0.6442733  0.35572675]\n",
            " [0.50613815 0.49386188]\n",
            " [0.39064118 0.60935885]\n",
            " [0.31907746 0.68092257]\n",
            " [0.31800446 0.6819956 ]\n",
            " [0.36871663 0.63128334]\n",
            " [0.49360892 0.50639105]\n",
            " [0.6891239  0.310876  ]]\n",
            "predictions = [[0.9478528  0.05214717]\n",
            " [0.97855514 0.02144483]\n",
            " [0.98677874 0.01322127]\n",
            " [0.9882522  0.01174781]\n",
            " [0.98664516 0.01335483]\n",
            " [0.9782019  0.02179806]\n",
            " [0.95626533 0.04373465]\n",
            " [0.90411896 0.09588104]\n",
            " [0.7975486  0.20245138]\n",
            " [0.68964493 0.310355  ]\n",
            " [0.6979926  0.3020074 ]\n",
            " [0.71390283 0.28609717]\n",
            " [0.73522496 0.2647751 ]\n",
            " [0.7574867  0.24251328]\n",
            " [0.7502043  0.24979566]\n",
            " [0.6442733  0.35572675]\n",
            " [0.50613815 0.49386188]\n",
            " [0.39064118 0.60935885]\n",
            " [0.31907746 0.68092257]\n",
            " [0.31800446 0.6819956 ]\n",
            " [0.36871663 0.63128334]\n",
            " [0.49360892 0.50639105]\n",
            " [0.6891239  0.310876  ]]\n"
          ],
          "name": "stdout"
        },
        {
          "output_type": "display_data",
          "data": {
            "image/png": "[encoded data removed]",
            "text/plain": [
              "<Figure size 576x396 with 1 Axes>"
            ]
          },
          "metadata": {
            "tags": []
          }
        }
      ]
    },
    {
      "metadata": {
        "id": "n3CRlfWTNrID",
        "colab_type": "text"
      },
      "cell_type": "markdown",
      "source": [
        "That's more like it! A peak in the morning and a peak in the evening. This model is now prediction in a way that is much more consistent with observed historical patterns.\n",
        "\n",
        "We also see that the probability for the light left on between 1AM and 4AM in the morning is very low. This could be an opportunity to e.g. send a Hunch to the customer about any lights that were left on during that time."
      ]
    },
    {
      "metadata": {
        "id": "feKFeno3CrnH",
        "colab_type": "text"
      },
      "cell_type": "markdown",
      "source": [
        "**Exercise:** So far we have only used 1 feature, the hour of the day. Go back and train a model using all the features. The accuracy should improve a lot.\n",
        "Look at the documentation of the functions used () to see how to define parameters."
      ]
    },
    {
      "metadata": {
        "id": "EA3UU1__C4It",
        "colab_type": "text"
      },
      "cell_type": "markdown",
      "source": [
        "**Exercise:** Follow the instructions on the slides to train a keras model in Eider, the amazon internal tool"
      ]
    },
    {
      "metadata": {
        "id": "8NtglBhBpPuh",
        "colab_type": "text"
      },
      "cell_type": "markdown",
      "source": [
        "**Exercise:** We just looked at predictions visually. How can we assess objectively whether a model is better than another? (-> create a [test dataset](https://towardsdatascience.com/train-validation-and-test-sets-72cb40cba9e7))"
      ]
    }
  ]
}